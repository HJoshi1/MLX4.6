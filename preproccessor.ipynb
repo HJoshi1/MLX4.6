{
 "cells": [
  {
   "cell_type": "markdown",
   "metadata": {},
   "source": [
    "Overall Steps"
   ]
  },
  {
   "cell_type": "code",
   "execution_count": null,
   "metadata": {},
   "outputs": [],
   "source": [
    "# Get hugging face dataset \n",
    "# For each image, split into grid of 16 x 16 pixels - sequences of each patch representing the image \n",
    "# Convert each patch to 1 dimensional vector - this will be the pre embedding of the patch \n",
    "# Pass pre embedding to embedding layer to get the embedding of the patch \n",
    "# This will input to the encoder \n",
    "\n",
    "# Tokenise each caption in the dataset \n",
    "# Create two copies of each tokenied caption, \n",
    "#  - one with start of sentence token at the start - input to decoder\n",
    "#  - one with end of sentence token at the end - label for the loss function "
   ]
  },
  {
   "cell_type": "markdown",
   "metadata": {},
   "source": [
    "Split up image into grid of 16 x 16 and convert to list of 1D arrays"
   ]
  },
  {
   "cell_type": "code",
   "execution_count": 3,
   "metadata": {},
   "outputs": [
    {
     "name": "stdout",
     "output_type": "stream",
     "text": [
      "Total patches extracted: 768\n"
     ]
    }
   ],
   "source": [
    "from PIL import Image\n",
    "import numpy as np\n",
    "\n",
    "# Path to your image\n",
    "image_path = 'flickr30k/flickr30k-images/testImage.jpg'\n",
    "\n",
    "# Load the image\n",
    "image = Image.open(image_path)\n",
    "\n",
    "def convertImageTo1DPatchesVectorList(image):\n",
    "    # Convert the image to a numpy array for easier manipulation\n",
    "    image_np = np.array(image)\n",
    "\n",
    "    # Initialize a list to hold the 1D vectors for each 16x16 patch\n",
    "    patch_vectors = []\n",
    "\n",
    "    # Iterate over the image in 16x16 blocks\n",
    "    for y in range(0, image_np.shape[0], 16):\n",
    "        for x in range(0, image_np.shape[1], 16):\n",
    "            # Extract the patch\n",
    "            patch = image_np[y:y+16, x:x+16]\n",
    "\n",
    "            # Flatten the patch to a 1D vector (16*16*number_of_channels)\n",
    "            # This line assumes the image is in color (RGB), so the patch size becomes 16*16*3\n",
    "            patch_vector = patch.flatten()\n",
    "            \n",
    "            # Add the patch vector to our list\n",
    "            patch_vectors.append(patch_vector)\n",
    "    \n",
    "    return patch_vectors\n",
    "\n",
    "patch_vectors = convertImageTo1DPatchesVectorList(image)\n",
    "\n",
    "print(f\"Total patches extracted: {len(patch_vectors)}\")\n",
    "\n"
   ]
  },
  {
   "cell_type": "code",
   "execution_count": null,
   "metadata": {},
   "outputs": [],
   "source": []
  }
 ],
 "metadata": {
  "kernelspec": {
   "display_name": "week3",
   "language": "python",
   "name": "python3"
  },
  "language_info": {
   "codemirror_mode": {
    "name": "ipython",
    "version": 3
   },
   "file_extension": ".py",
   "mimetype": "text/x-python",
   "name": "python",
   "nbconvert_exporter": "python",
   "pygments_lexer": "ipython3",
   "version": "3.12.2"
  }
 },
 "nbformat": 4,
 "nbformat_minor": 2
}
